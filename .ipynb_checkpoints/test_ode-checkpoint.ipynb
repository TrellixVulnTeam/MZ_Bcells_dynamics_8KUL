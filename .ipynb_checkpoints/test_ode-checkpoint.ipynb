{
 "cells": [
  {
   "cell_type": "code",
   "execution_count": 15,
   "id": "91f3974b",
   "metadata": {},
   "outputs": [
    {
     "name": "stdout",
     "output_type": "stream",
     "text": [
      "0.18448415777349697\n"
     ]
    }
   ],
   "source": [
    "import numpy as np\n",
    "from scipy.integrate import odeint\n",
    "import matplotlib.pyplot as plt\n",
    "\n",
    "\n",
    "# function that gives input\n",
    "def theta_func(t):\n",
    "    t0 = 40\n",
    "    nu = 0.00\n",
    "    theta0 = np.exp(9.495)\n",
    "    value = theta0 * np.exp(-nu * (t - t0))\n",
    "    return value\n",
    "\n",
    "# function that gives chimerism in source\n",
    "def chi_T1(t):\n",
    "    chiEst = 0.87\n",
    "    qEst = 0.012\n",
    "    if (t>0):\n",
    "        value = chiEst * (1 - np.exp(-qEst * (t-15)))\n",
    "    else:\n",
    "        value = 0.0\n",
    "    return value\n",
    "\n",
    "# function that describes changes in source chimerism\n",
    "def eps_donor(t):\n",
    "    eps_0 = 0.068;  eps_f  = 0.01;  A = 115;\n",
    "    k_val = np.exp(- eps_f * (t + A)) + eps_0\n",
    "    return k_val\n",
    "\n",
    "print(eps_donor(100))"
   ]
  },
  {
   "cell_type": "code",
   "execution_count": 18,
   "id": "4020e0e2",
   "metadata": {},
   "outputs": [
    {
     "name": "stdout",
     "output_type": "stream",
     "text": [
      "[[ 0.00000000e+00  0.00000000e+00  4.00000000e+03  1.00000000e+03]\n",
      " [-3.85302453e+02 -2.85745373e+03  4.03555850e+03  4.12509396e+04]\n",
      " [ 5.93368364e+01 -1.20014057e+03  4.37136721e+03  5.75013148e+04]\n",
      " [ 5.68549639e+02  4.48300298e+03  4.23517727e+03  6.08730955e+04]\n",
      " [ 1.03087639e+03  1.14994291e+04  3.90923985e+03  5.84765694e+04]\n",
      " [ 1.42428460e+03  1.85742725e+04  3.52656133e+03  5.37904889e+04]\n",
      " [ 1.74810808e+03  2.51537974e+04  3.14830863e+03  4.84759095e+04]\n",
      " [ 2.00979320e+03  3.10356138e+04  2.80033410e+03  4.32910738e+04]\n",
      " [ 2.21907571e+03  3.61835494e+04  2.49143293e+03  3.85508437e+04]\n",
      " [ 2.38547735e+03  4.06357677e+04  2.22243816e+03  3.43566444e+04]\n",
      " [ 2.51736718e+03  4.44597360e+04  1.99071197e+03  3.07109230e+04]\n",
      " [ 2.62173365e+03  4.77306632e+04  1.79232847e+03  2.75735693e+04]\n",
      " [ 2.70425513e+03  5.05216242e+04  1.62310513e+03  2.48892664e+04]\n",
      " [ 2.76947697e+03  5.28994422e+04  1.47906324e+03  2.26003363e+04]\n",
      " [ 2.82100820e+03  5.49233606e+04  1.35660999e+03  2.06524192e+04]\n",
      " [ 2.86170302e+03  5.66450145e+04  1.25258734e+03  1.89966557e+04]\n",
      " [ 2.89381517e+03  5.81089715e+04  1.16426037e+03  1.75902062e+04]\n",
      " [ 2.91912432e+03  5.93534766e+04  1.08928050e+03  1.63960241e+04]\n",
      " [ 2.93903689e+03  6.04112358e+04  1.02564079e+03  1.53823210e+04]\n",
      " [ 2.95466599e+03  6.13101569e+04  9.71631118e+02  1.45219465e+04]]\n"
     ]
    }
   ],
   "source": [
    "\n",
    "# function that returns dy/dt\n",
    "def model(y,t,tb, psi,r,b,k):\n",
    "    y1, y2, y3, y4 = y \n",
    "    eps_host=0.068\n",
    "    eps_donor=0.2\n",
    "    \n",
    "    dy1dt = (psi * theta_func(t) * chi_T1(t-tb) * eps_donor) + r * (2 * y2 + y1) - (b + (k + r)) * y1\n",
    "    dy2dt = (psi * theta_func(t) * chi_T1(t-tb) * (1-eps_donor)) + b * y1 - (r + (k + r)) * y2\n",
    "    \n",
    "    dy3dt = (psi * theta_func(t) * (1-chi_T1(t-tb)) * eps_host) + r * (2 * y4 + y3) - (b + (k + r)) * y3\n",
    "    dy4dt = (psi * theta_func(t) * (1-chi_T1(t-tb)) * (1-eps_host)) + b * y3 - (r + (k + r)) * y4\n",
    "    dydt = (dy1dt, dy2dt, dy3dt, dy4dt)\n",
    "    return dydt\n",
    "\n",
    "# initial condition\n",
    "y0 = (0, 0, 4000, 1000)\n",
    "\n",
    "# time points\n",
    "t = np.linspace(40, 300, num=20)\n",
    "\n",
    "# solve ODE\n",
    "tb=45\n",
    "k=0.05\n",
    "psi = 0.3\n",
    "r=0.005\n",
    "b=0.25\n",
    "y = odeint(model,y0,t, args=(tb,psi,r,b,k,))\n",
    "print(y)\n"
   ]
  },
  {
   "cell_type": "code",
   "execution_count": 4,
   "id": "b0388e0a",
   "metadata": {},
   "outputs": [
    {
     "ename": "NameError",
     "evalue": "name 'y' is not defined",
     "output_type": "error",
     "traceback": [
      "\u001b[0;31m---------------------------------------------------------------------------\u001b[0m",
      "\u001b[0;31mNameError\u001b[0m                                 Traceback (most recent call last)",
      "Input \u001b[0;32mIn [4]\u001b[0m, in \u001b[0;36m<cell line: 2>\u001b[0;34m()\u001b[0m\n\u001b[1;32m      1\u001b[0m \u001b[38;5;66;03m# plot results\u001b[39;00m\n\u001b[0;32m----> 2\u001b[0m plt\u001b[38;5;241m.\u001b[39mplot(t,\u001b[43my\u001b[49m)\n\u001b[1;32m      3\u001b[0m plt\u001b[38;5;241m.\u001b[39mxlabel(\u001b[38;5;124m'\u001b[39m\u001b[38;5;124mtime\u001b[39m\u001b[38;5;124m'\u001b[39m)\n\u001b[1;32m      4\u001b[0m plt\u001b[38;5;241m.\u001b[39mylabel(\u001b[38;5;124m'\u001b[39m\u001b[38;5;124my(t)\u001b[39m\u001b[38;5;124m'\u001b[39m)\n",
      "\u001b[0;31mNameError\u001b[0m: name 'y' is not defined"
     ]
    }
   ],
   "source": [
    "\n",
    "# plot results\n",
    "plt.plot(t,y)\n",
    "plt.xlabel('time')\n",
    "plt.ylabel('y(t)')\n",
    "plt.show()"
   ]
  },
  {
   "cell_type": "code",
   "execution_count": null,
   "id": "407f8d33",
   "metadata": {},
   "outputs": [],
   "source": []
  }
 ],
 "metadata": {
  "kernelspec": {
   "display_name": "Python 3 (ipykernel)",
   "language": "python",
   "name": "python3"
  },
  "language_info": {
   "codemirror_mode": {
    "name": "ipython",
    "version": 3
   },
   "file_extension": ".py",
   "mimetype": "text/x-python",
   "name": "python",
   "nbconvert_exporter": "python",
   "pygments_lexer": "ipython3",
   "version": "3.8.10"
  }
 },
 "nbformat": 4,
 "nbformat_minor": 5
}
