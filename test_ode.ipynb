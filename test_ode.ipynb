{
 "cells": [
  {
   "cell_type": "code",
   "execution_count": 35,
   "id": "91f3974b",
   "metadata": {},
   "outputs": [
    {
     "name": "stdout",
     "output_type": "stream",
     "text": [
      "0.008756146300732065\n"
     ]
    }
   ],
   "source": [
    "import numpy as np\n",
    "from scipy.integrate import odeint\n",
    "import matplotlib.pyplot as plt\n",
    "\n",
    "\n",
    "# function that gives input\n",
    "def theta_func(t):\n",
    "    t0 = 40\n",
    "    nu = 0.00\n",
    "    theta0 = np.exp(9.495)\n",
    "    value = theta0 * np.exp(-nu * (t - t0))\n",
    "    return value\n",
    "\n",
    "# function that gives chimerism in source\n",
    "def chi_T1(t):\n",
    "    chiEst = 0.88\n",
    "    qEst = 0.01\n",
    "    if ((t - 15)>0):\n",
    "        value = chiEst * (1 - np.exp(-qEst * (t-15)))\n",
    "    else:\n",
    "        value = 0.0\n",
    "    return value\n",
    "\n",
    "# function that describes changes in source chimerism\n",
    "def eps_donor(t):\n",
    "    eps_0 = 0.068;  eps_f  = 0.01;  A = 115;\n",
    "    k_val = np.exp(- eps_f * (t + A)) + eps_0\n",
    "    return k_val\n",
    "\n",
    "timeseq = np.linspace(40, 100, num=20)\n",
    "print(chi_T1(16))"
   ]
  },
  {
   "cell_type": "code",
   "execution_count": 36,
   "id": "4020e0e2",
   "metadata": {},
   "outputs": [
    {
     "name": "stdout",
     "output_type": "stream",
     "text": [
      "[[    0.             0.          4000.          1000.        ]\n",
      " [    0.             0.          2046.33926052 39997.40265541]\n",
      " [  455.63524357   369.08241625  2670.28704919 57236.87354353]\n",
      " [ 1789.91202265  3443.08498274  2822.71933568 62104.10902708]\n",
      " [ 3066.58958025  8222.21102152  2736.94185663 60890.37239683]\n",
      " [ 4223.29955608 13462.39457018  2551.9723605  57077.94100436]\n",
      " [ 5253.72729797 18573.54497572  2335.08596324 52363.76546117]\n",
      " [ 6163.29174263 23304.02393829  2117.90169453 47551.59756081]\n",
      " [ 6962.03918929 27567.23949812  1914.34978704 43001.27315315]\n",
      " [ 7661.41243814 31354.7055264   1729.69516904 38854.5145101 ]\n",
      " [ 8272.74351764 34692.83741653  1565.05669917 35148.10059474]\n",
      " [ 8806.59757469 37621.73235321  1419.65817161 31870.30734035]\n",
      " [ 9272.53265123 40184.9661095   1291.93881703 28988.81410135]\n",
      " [ 9679.05842748 42424.8828813   1180.0915659  26464.28634163]\n",
      " [10033.68359642 44380.60245546  1082.315529   24256.79660707]\n",
      " [10343.00087186 46087.34626275   996.92664686 22328.68671635]\n",
      " [10612.78200487 47576.38973965   922.398959   20645.68257187]\n",
      " [10848.07185191 48875.28782092   857.37283999 19177.17295964]\n",
      " [11053.27597993 50008.21396025   800.64794329 17896.09661284]\n",
      " [11232.23901406 50996.32232267   751.17008622 16778.6690716 ]]\n"
     ]
    }
   ],
   "source": [
    "\n",
    "# function that returns dy/dt\n",
    "def model(y,t,tb, psi,r,b,k):\n",
    "    y1, y2, y3, y4 = y \n",
    "    eps_host=0.068\n",
    "    eps_donor=0.9\n",
    "    \n",
    "    dy1dt = (psi * theta_func(t) * chi_T1(t-tb) * eps_donor) + r * (2 * y2 + y1) - (b + (k + r)) * y1\n",
    "    dy2dt = (psi * theta_func(t) * chi_T1(t-tb) * (1-eps_donor)) + b * y1 - (r + (k + r)) * y2\n",
    "    \n",
    "    dy3dt = (psi * theta_func(t) * (1-chi_T1(t-tb)) * eps_host) + r * (2 * y4 + y3) - (b + (k + r)) * y3\n",
    "    dy4dt = (psi * theta_func(t) * (1-chi_T1(t-tb)) * (1-eps_host)) + b * y3 - (r + (k + r)) * y4\n",
    "    dydt = (dy1dt, dy2dt, dy3dt, dy4dt)\n",
    "    return dydt\n",
    "\n",
    "# initial condition\n",
    "y0 = (0, 0, 4000, 1000)\n",
    "\n",
    "# time points\n",
    "t = np.linspace(40, 300, num=20)\n",
    "\n",
    "# solve ODE\n",
    "tb=45\n",
    "k=0.05\n",
    "psi = 0.3\n",
    "r=0.005\n",
    "b=0.25\n",
    "y = odeint(model,y0,t, args=(tb,psi,r,b,k,))\n",
    "print(y)\n"
   ]
  },
  {
   "cell_type": "code",
   "execution_count": 4,
   "id": "b0388e0a",
   "metadata": {},
   "outputs": [
    {
     "ename": "NameError",
     "evalue": "name 'y' is not defined",
     "output_type": "error",
     "traceback": [
      "\u001b[0;31m---------------------------------------------------------------------------\u001b[0m",
      "\u001b[0;31mNameError\u001b[0m                                 Traceback (most recent call last)",
      "Input \u001b[0;32mIn [4]\u001b[0m, in \u001b[0;36m<cell line: 2>\u001b[0;34m()\u001b[0m\n\u001b[1;32m      1\u001b[0m \u001b[38;5;66;03m# plot results\u001b[39;00m\n\u001b[0;32m----> 2\u001b[0m plt\u001b[38;5;241m.\u001b[39mplot(t,\u001b[43my\u001b[49m)\n\u001b[1;32m      3\u001b[0m plt\u001b[38;5;241m.\u001b[39mxlabel(\u001b[38;5;124m'\u001b[39m\u001b[38;5;124mtime\u001b[39m\u001b[38;5;124m'\u001b[39m)\n\u001b[1;32m      4\u001b[0m plt\u001b[38;5;241m.\u001b[39mylabel(\u001b[38;5;124m'\u001b[39m\u001b[38;5;124my(t)\u001b[39m\u001b[38;5;124m'\u001b[39m)\n",
      "\u001b[0;31mNameError\u001b[0m: name 'y' is not defined"
     ]
    }
   ],
   "source": [
    "\n",
    "# plot results\n",
    "plt.plot(t,y)\n",
    "plt.xlabel('time')\n",
    "plt.ylabel('y(t)')\n",
    "plt.show()"
   ]
  },
  {
   "cell_type": "code",
   "execution_count": null,
   "id": "407f8d33",
   "metadata": {},
   "outputs": [],
   "source": []
  }
 ],
 "metadata": {
  "kernelspec": {
   "display_name": "Python 3 (ipykernel)",
   "language": "python",
   "name": "python3"
  },
  "language_info": {
   "codemirror_mode": {
    "name": "ipython",
    "version": 3
   },
   "file_extension": ".py",
   "mimetype": "text/x-python",
   "name": "python",
   "nbconvert_exporter": "python",
   "pygments_lexer": "ipython3",
   "version": "3.8.10"
  }
 },
 "nbformat": 4,
 "nbformat_minor": 5
}
